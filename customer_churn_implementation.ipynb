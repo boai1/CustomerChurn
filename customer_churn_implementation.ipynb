{
 "cells": [
  {
   "attachments": {},
   "cell_type": "markdown",
   "metadata": {},
   "source": [
    "### Customer churn model using the \"Telco-Customer-Churn\" Kaggle dataset"
   ]
  },
  {
   "cell_type": "code",
   "execution_count": 301,
   "metadata": {},
   "outputs": [],
   "source": [
    "import pandas as pd\n",
    "import warnings\n",
    "warnings.filterwarnings(\"ignore\")\n",
    "\n",
    "# first, import the dataset\n",
    "df = pd.read_csv(r\"./data/WA_Fn-UseC_-Telco-Customer-Churn.csv\")"
   ]
  },
  {
   "attachments": {},
   "cell_type": "markdown",
   "metadata": {},
   "source": [
    "#### Data exploration"
   ]
  },
  {
   "cell_type": "code",
   "execution_count": 302,
   "metadata": {},
   "outputs": [
    {
     "data": {
      "text/html": [
       "<div>\n",
       "<style scoped>\n",
       "    .dataframe tbody tr th:only-of-type {\n",
       "        vertical-align: middle;\n",
       "    }\n",
       "\n",
       "    .dataframe tbody tr th {\n",
       "        vertical-align: top;\n",
       "    }\n",
       "\n",
       "    .dataframe thead th {\n",
       "        text-align: right;\n",
       "    }\n",
       "</style>\n",
       "<table border=\"1\" class=\"dataframe\">\n",
       "  <thead>\n",
       "    <tr style=\"text-align: right;\">\n",
       "      <th></th>\n",
       "      <th>customerID</th>\n",
       "      <th>gender</th>\n",
       "      <th>SeniorCitizen</th>\n",
       "      <th>Partner</th>\n",
       "      <th>Dependents</th>\n",
       "      <th>tenure</th>\n",
       "      <th>PhoneService</th>\n",
       "      <th>MultipleLines</th>\n",
       "      <th>InternetService</th>\n",
       "      <th>OnlineSecurity</th>\n",
       "      <th>...</th>\n",
       "      <th>DeviceProtection</th>\n",
       "      <th>TechSupport</th>\n",
       "      <th>StreamingTV</th>\n",
       "      <th>StreamingMovies</th>\n",
       "      <th>Contract</th>\n",
       "      <th>PaperlessBilling</th>\n",
       "      <th>PaymentMethod</th>\n",
       "      <th>MonthlyCharges</th>\n",
       "      <th>TotalCharges</th>\n",
       "      <th>Churn</th>\n",
       "    </tr>\n",
       "  </thead>\n",
       "  <tbody>\n",
       "    <tr>\n",
       "      <th>0</th>\n",
       "      <td>7590-VHVEG</td>\n",
       "      <td>Female</td>\n",
       "      <td>0</td>\n",
       "      <td>Yes</td>\n",
       "      <td>No</td>\n",
       "      <td>1</td>\n",
       "      <td>No</td>\n",
       "      <td>No phone service</td>\n",
       "      <td>DSL</td>\n",
       "      <td>No</td>\n",
       "      <td>...</td>\n",
       "      <td>No</td>\n",
       "      <td>No</td>\n",
       "      <td>No</td>\n",
       "      <td>No</td>\n",
       "      <td>Month-to-month</td>\n",
       "      <td>Yes</td>\n",
       "      <td>Electronic check</td>\n",
       "      <td>29.85</td>\n",
       "      <td>29.85</td>\n",
       "      <td>No</td>\n",
       "    </tr>\n",
       "    <tr>\n",
       "      <th>1</th>\n",
       "      <td>5575-GNVDE</td>\n",
       "      <td>Male</td>\n",
       "      <td>0</td>\n",
       "      <td>No</td>\n",
       "      <td>No</td>\n",
       "      <td>34</td>\n",
       "      <td>Yes</td>\n",
       "      <td>No</td>\n",
       "      <td>DSL</td>\n",
       "      <td>Yes</td>\n",
       "      <td>...</td>\n",
       "      <td>Yes</td>\n",
       "      <td>No</td>\n",
       "      <td>No</td>\n",
       "      <td>No</td>\n",
       "      <td>One year</td>\n",
       "      <td>No</td>\n",
       "      <td>Mailed check</td>\n",
       "      <td>56.95</td>\n",
       "      <td>1889.5</td>\n",
       "      <td>No</td>\n",
       "    </tr>\n",
       "    <tr>\n",
       "      <th>2</th>\n",
       "      <td>3668-QPYBK</td>\n",
       "      <td>Male</td>\n",
       "      <td>0</td>\n",
       "      <td>No</td>\n",
       "      <td>No</td>\n",
       "      <td>2</td>\n",
       "      <td>Yes</td>\n",
       "      <td>No</td>\n",
       "      <td>DSL</td>\n",
       "      <td>Yes</td>\n",
       "      <td>...</td>\n",
       "      <td>No</td>\n",
       "      <td>No</td>\n",
       "      <td>No</td>\n",
       "      <td>No</td>\n",
       "      <td>Month-to-month</td>\n",
       "      <td>Yes</td>\n",
       "      <td>Mailed check</td>\n",
       "      <td>53.85</td>\n",
       "      <td>108.15</td>\n",
       "      <td>Yes</td>\n",
       "    </tr>\n",
       "    <tr>\n",
       "      <th>3</th>\n",
       "      <td>7795-CFOCW</td>\n",
       "      <td>Male</td>\n",
       "      <td>0</td>\n",
       "      <td>No</td>\n",
       "      <td>No</td>\n",
       "      <td>45</td>\n",
       "      <td>No</td>\n",
       "      <td>No phone service</td>\n",
       "      <td>DSL</td>\n",
       "      <td>Yes</td>\n",
       "      <td>...</td>\n",
       "      <td>Yes</td>\n",
       "      <td>Yes</td>\n",
       "      <td>No</td>\n",
       "      <td>No</td>\n",
       "      <td>One year</td>\n",
       "      <td>No</td>\n",
       "      <td>Bank transfer (automatic)</td>\n",
       "      <td>42.30</td>\n",
       "      <td>1840.75</td>\n",
       "      <td>No</td>\n",
       "    </tr>\n",
       "    <tr>\n",
       "      <th>4</th>\n",
       "      <td>9237-HQITU</td>\n",
       "      <td>Female</td>\n",
       "      <td>0</td>\n",
       "      <td>No</td>\n",
       "      <td>No</td>\n",
       "      <td>2</td>\n",
       "      <td>Yes</td>\n",
       "      <td>No</td>\n",
       "      <td>Fiber optic</td>\n",
       "      <td>No</td>\n",
       "      <td>...</td>\n",
       "      <td>No</td>\n",
       "      <td>No</td>\n",
       "      <td>No</td>\n",
       "      <td>No</td>\n",
       "      <td>Month-to-month</td>\n",
       "      <td>Yes</td>\n",
       "      <td>Electronic check</td>\n",
       "      <td>70.70</td>\n",
       "      <td>151.65</td>\n",
       "      <td>Yes</td>\n",
       "    </tr>\n",
       "  </tbody>\n",
       "</table>\n",
       "<p>5 rows × 21 columns</p>\n",
       "</div>"
      ],
      "text/plain": [
       "   customerID  gender  SeniorCitizen Partner Dependents  tenure PhoneService  \\\n",
       "0  7590-VHVEG  Female              0     Yes         No       1           No   \n",
       "1  5575-GNVDE    Male              0      No         No      34          Yes   \n",
       "2  3668-QPYBK    Male              0      No         No       2          Yes   \n",
       "3  7795-CFOCW    Male              0      No         No      45           No   \n",
       "4  9237-HQITU  Female              0      No         No       2          Yes   \n",
       "\n",
       "      MultipleLines InternetService OnlineSecurity  ... DeviceProtection  \\\n",
       "0  No phone service             DSL             No  ...               No   \n",
       "1                No             DSL            Yes  ...              Yes   \n",
       "2                No             DSL            Yes  ...               No   \n",
       "3  No phone service             DSL            Yes  ...              Yes   \n",
       "4                No     Fiber optic             No  ...               No   \n",
       "\n",
       "  TechSupport StreamingTV StreamingMovies        Contract PaperlessBilling  \\\n",
       "0          No          No              No  Month-to-month              Yes   \n",
       "1          No          No              No        One year               No   \n",
       "2          No          No              No  Month-to-month              Yes   \n",
       "3         Yes          No              No        One year               No   \n",
       "4          No          No              No  Month-to-month              Yes   \n",
       "\n",
       "               PaymentMethod MonthlyCharges  TotalCharges Churn  \n",
       "0           Electronic check          29.85         29.85    No  \n",
       "1               Mailed check          56.95        1889.5    No  \n",
       "2               Mailed check          53.85        108.15   Yes  \n",
       "3  Bank transfer (automatic)          42.30       1840.75    No  \n",
       "4           Electronic check          70.70        151.65   Yes  \n",
       "\n",
       "[5 rows x 21 columns]"
      ]
     },
     "execution_count": 302,
     "metadata": {},
     "output_type": "execute_result"
    }
   ],
   "source": [
    "# explore the data a bit\n",
    "df.head()"
   ]
  },
  {
   "cell_type": "code",
   "execution_count": 303,
   "metadata": {},
   "outputs": [
    {
     "name": "stdout",
     "output_type": "stream",
     "text": [
      "True\n"
     ]
    }
   ],
   "source": [
    "# although the costumerID column should have unique IDs, double-check\n",
    "print(len(df.customerID.unique()) == len(df))"
   ]
  },
  {
   "cell_type": "code",
   "execution_count": 304,
   "metadata": {},
   "outputs": [],
   "source": [
    "# the customerID column will not serve any purpose for the ML model, since every ID is unique\n",
    "# therefore, this column is dropped\n",
    "df.drop('customerID', axis='columns', inplace=True )\n"
   ]
  },
  {
   "cell_type": "code",
   "execution_count": 305,
   "metadata": {},
   "outputs": [
    {
     "data": {
      "text/plain": [
       "gender               object\n",
       "SeniorCitizen         int64\n",
       "Partner              object\n",
       "Dependents           object\n",
       "tenure                int64\n",
       "PhoneService         object\n",
       "MultipleLines        object\n",
       "InternetService      object\n",
       "OnlineSecurity       object\n",
       "OnlineBackup         object\n",
       "DeviceProtection     object\n",
       "TechSupport          object\n",
       "StreamingTV          object\n",
       "StreamingMovies      object\n",
       "Contract             object\n",
       "PaperlessBilling     object\n",
       "PaymentMethod        object\n",
       "MonthlyCharges      float64\n",
       "TotalCharges         object\n",
       "Churn                object\n",
       "dtype: object"
      ]
     },
     "execution_count": 305,
     "metadata": {},
     "output_type": "execute_result"
    }
   ],
   "source": [
    "# check if all of the columns are in the correct data format\n",
    "df.dtypes"
   ]
  },
  {
   "cell_type": "code",
   "execution_count": 306,
   "metadata": {},
   "outputs": [
    {
     "name": "stdout",
     "output_type": "stream",
     "text": [
      "first 5 elements in the TotalCharges column: ['29.85', '1889.5', '108.15', '1840.75', '151.65']\n"
     ]
    }
   ],
   "source": [
    "# the TotalCharges column is of type string, although it expreses a number\n",
    "print(f\"first 5 elements in the TotalCharges column: {df.TotalCharges.tolist()[:5]}\")"
   ]
  },
  {
   "cell_type": "code",
   "execution_count": 307,
   "metadata": {},
   "outputs": [
    {
     "name": "stdout",
     "output_type": "stream",
     "text": [
      "[ 488  753  936 1082 1340 3331 3826 4380 5218 6670 6754]\n"
     ]
    }
   ],
   "source": [
    "# this generally happens when there are empty cells or non-numeric cells\n",
    "# first make a copy of the original dataframe\n",
    "df_copy = df.copy(deep = True)\n",
    "\n",
    "# use pd.to_numeric() to convert all values to numeric. The assumption is that this will not be able to convert\n",
    "# all the cells to numeric.\n",
    "\n",
    "# get the index positions of the presumably wrong entries in the dataframe \n",
    "incorrect_values_idx = df_copy[pd.to_numeric(df_copy.TotalCharges, errors='coerce').isna()].index.to_numpy()\n",
    "\n",
    "# if the assumption is wrong, this will print an empty array\n",
    "print(incorrect_values_idx)"
   ]
  },
  {
   "attachments": {},
   "cell_type": "markdown",
   "metadata": {},
   "source": [
    "Only 11 entries (out of more than 7000) have issues. Normally these entries can just be dropped, however, if they do indeed contain numerical values, but have a typo, they can be changed."
   ]
  },
  {
   "cell_type": "code",
   "execution_count": 308,
   "metadata": {},
   "outputs": [
    {
     "data": {
      "text/plain": [
       "488      \n",
       "753      \n",
       "936      \n",
       "1082     \n",
       "1340     \n",
       "3331     \n",
       "3826     \n",
       "4380     \n",
       "5218     \n",
       "6670     \n",
       "6754     \n",
       "Name: TotalCharges, dtype: object"
      ]
     },
     "execution_count": 308,
     "metadata": {},
     "output_type": "execute_result"
    }
   ],
   "source": [
    "df.loc[incorrect_values_idx, 'TotalCharges']"
   ]
  },
  {
   "attachments": {},
   "cell_type": "markdown",
   "metadata": {},
   "source": [
    "All of the wrong entries are in fact empty cells. Nothing further to be done here, except drop the respective rows."
   ]
  },
  {
   "cell_type": "code",
   "execution_count": 309,
   "metadata": {},
   "outputs": [],
   "source": [
    "# delete the copy dataframe from memory\n",
    "del df_copy\n",
    "\n",
    "df = df[df.TotalCharges != ' ']\n",
    "df.reset_index(inplace=True)\n",
    "df.loc[:,'TotalCharges'] = pd.to_numeric(df.TotalCharges)"
   ]
  },
  {
   "attachments": {},
   "cell_type": "markdown",
   "metadata": {},
   "source": [
    "#### Encode the categorical features"
   ]
  },
  {
   "cell_type": "code",
   "execution_count": 310,
   "metadata": {},
   "outputs": [],
   "source": [
    "from sklearn.preprocessing import OneHotEncoder\n",
    "from sklearn.compose import make_column_transformer\n",
    "from seaborn import load_dataset\n",
    "import pandas as pd\n",
    "from sklearn import preprocessing\n",
    "\n",
    "y = df.pop('Churn')\n",
    "X = df\n",
    "\n",
    "# OHE the categorical features\n",
    "categorical_columns = X.select_dtypes(include=object).columns.to_numpy()\n",
    "\n",
    "transformer = make_column_transformer(\n",
    "    (OneHotEncoder(), categorical_columns),\n",
    "    remainder='passthrough')\n",
    "\n",
    "transformed = transformer.fit_transform(X)\n",
    "X = pd.DataFrame(transformed, columns=transformer.get_feature_names_out())\n",
    "\n",
    "# encode target values from 'Yes'/'No' to 1 and 0\n",
    "label = preprocessing.LabelEncoder()\n",
    "label.fit(y.values.tolist())\n",
    "\n",
    "y = label.transform(y.values.tolist())"
   ]
  },
  {
   "attachments": {},
   "cell_type": "markdown",
   "metadata": {},
   "source": [
    "#### Train/test split"
   ]
  },
  {
   "cell_type": "code",
   "execution_count": 312,
   "metadata": {},
   "outputs": [],
   "source": [
    "# now that the categorical features are encoded, split the dataframe into train-test partitions\n",
    "from sklearn.model_selection import train_test_split\n",
    "\n",
    "X_train, X_test, y_train, y_test = train_test_split(X, y, test_size=0.2, random_state=42)"
   ]
  },
  {
   "attachments": {},
   "cell_type": "markdown",
   "metadata": {},
   "source": [
    "#### Implement XGB Classifier and Random Forest"
   ]
  },
  {
   "cell_type": "code",
   "execution_count": 313,
   "metadata": {},
   "outputs": [
    {
     "name": "stdout",
     "output_type": "stream",
     "text": [
      "XGB classifier score: 0.801018268787758\n",
      "Random Forest classifier score: 0.8159286331799287\n"
     ]
    }
   ],
   "source": [
    "from xgboost import XGBClassifier\n",
    "from sklearn.ensemble import RandomForestClassifier\n",
    "from sklearn import metrics\n",
    "\n",
    "# simple XGB classifier\n",
    "clf_xgb = XGBClassifier(random_state=15)\n",
    "clf_xgb.fit(X_train, y_train)\n",
    "preds_xgb = clf_xgb.predict_proba(X_test)[:, 1]\n",
    "\n",
    "# simple Random Forest Classifier\n",
    "clf_rf = RandomForestClassifier(random_state=15)\n",
    "clf_rf.fit(X_train, y_train)\n",
    "preds_rf = clf_rf.predict_proba(X_test)[:, 1]\n",
    "\n",
    "print(f'XGB classifier score: {metrics.roc_auc_score(y_test, preds_xgb)}')\n",
    "print(f'Random Forest classifier score: {metrics.roc_auc_score(y_test, preds_rf)}')"
   ]
  },
  {
   "cell_type": "code",
   "execution_count": 314,
   "metadata": {},
   "outputs": [
    {
     "name": "stdout",
     "output_type": "stream",
     "text": [
      "input shape: (5625, 46)\n",
      "output shape: (5625,)\n"
     ]
    }
   ],
   "source": [
    "# Take a look at the input-output shapes\n",
    "print(f\"input shape: {X_train.shape}\")\n",
    "print(f\"output shape: {y_train.shape}\")"
   ]
  },
  {
   "attachments": {},
   "cell_type": "markdown",
   "metadata": {},
   "source": [
    "#### Implement neural network with pytorch"
   ]
  },
  {
   "cell_type": "code",
   "execution_count": 316,
   "metadata": {},
   "outputs": [],
   "source": [
    "import torch\n",
    "from torch import nn\n",
    "from torcheval.metrics.functional import binary_accuracy\n",
    "\n",
    "X_nn = torch.from_numpy(X.to_numpy()).type(torch.float)\n",
    "y_nn = torch.from_numpy(y).type(torch.float)"
   ]
  },
  {
   "cell_type": "code",
   "execution_count": 319,
   "metadata": {},
   "outputs": [],
   "source": [
    "X_train_nn, X_test_nn, y_train_nn, y_test_nn = train_test_split(X_nn, y_nn, test_size=0.2, random_state=42)"
   ]
  },
  {
   "cell_type": "code",
   "execution_count": 354,
   "metadata": {},
   "outputs": [],
   "source": [
    "model = nn.Sequential(\n",
    "    nn.Linear(in_features=X_train.shape[1], out_features=36),\n",
    "    nn.ReLU(),\n",
    "    nn.Linear(in_features=36, out_features=16),\n",
    "    nn.ReLU(),\n",
    "    nn.Linear(in_features=16, out_features=8),\n",
    "    nn.ReLU(),\n",
    "    nn.Linear(in_features=8, out_features=1)\n",
    ")\n",
    "\n",
    "# binary cross-entropy loss\n",
    "loss_fn = nn.BCEWithLogitsLoss()\n",
    "\n",
    "# ADAM optimizer\n",
    "optimizer = torch.optim.Adam(params=model.parameters(), \n",
    "                            lr=0.01)"
   ]
  },
  {
   "cell_type": "code",
   "execution_count": 355,
   "metadata": {},
   "outputs": [
    {
     "name": "stdout",
     "output_type": "stream",
     "text": [
      "Epoch: 0 | Loss: 4.28758, Accuracy: 0.73% | Test loss: 10.49431, Test acc: 0.27%\n",
      "Epoch: 100 | Loss: 0.55137, Accuracy: 0.73% | Test loss: 0.55335, Test acc: 0.73%\n",
      "Epoch: 200 | Loss: 0.47933, Accuracy: 0.78% | Test loss: 0.49014, Test acc: 0.77%\n",
      "Epoch: 300 | Loss: 0.42549, Accuracy: 0.80% | Test loss: 0.44277, Test acc: 0.78%\n",
      "Epoch: 400 | Loss: 0.41052, Accuracy: 0.81% | Test loss: 0.43667, Test acc: 0.79%\n",
      "Epoch: 500 | Loss: 0.40518, Accuracy: 0.81% | Test loss: 0.43285, Test acc: 0.79%\n",
      "Epoch: 600 | Loss: 0.40246, Accuracy: 0.81% | Test loss: 0.43577, Test acc: 0.79%\n",
      "Epoch: 700 | Loss: 0.40030, Accuracy: 0.81% | Test loss: 0.43453, Test acc: 0.79%\n",
      "Epoch: 800 | Loss: 0.39664, Accuracy: 0.81% | Test loss: 0.43507, Test acc: 0.79%\n",
      "Epoch: 900 | Loss: 0.41188, Accuracy: 0.81% | Test loss: 0.44937, Test acc: 0.78%\n",
      "Epoch: 1000 | Loss: 0.39418, Accuracy: 0.82% | Test loss: 0.43814, Test acc: 0.79%\n",
      "Epoch: 1100 | Loss: 0.39776, Accuracy: 0.81% | Test loss: 0.44952, Test acc: 0.79%\n",
      "Epoch: 1200 | Loss: 0.39909, Accuracy: 0.81% | Test loss: 0.45046, Test acc: 0.79%\n",
      "Epoch: 1300 | Loss: 0.39054, Accuracy: 0.82% | Test loss: 0.44273, Test acc: 0.80%\n",
      "Epoch: 1400 | Loss: 0.39163, Accuracy: 0.82% | Test loss: 0.45337, Test acc: 0.79%\n",
      "Epoch: 1500 | Loss: 0.39204, Accuracy: 0.82% | Test loss: 0.44761, Test acc: 0.79%\n",
      "Epoch: 1600 | Loss: 0.39584, Accuracy: 0.81% | Test loss: 0.44205, Test acc: 0.79%\n",
      "Epoch: 1700 | Loss: 0.39319, Accuracy: 0.82% | Test loss: 0.43703, Test acc: 0.79%\n",
      "Epoch: 1800 | Loss: 0.39149, Accuracy: 0.82% | Test loss: 0.43909, Test acc: 0.79%\n",
      "Epoch: 1900 | Loss: 0.39185, Accuracy: 0.82% | Test loss: 0.43771, Test acc: 0.80%\n"
     ]
    }
   ],
   "source": [
    "# Build training and evaluation loop\n",
    "for epoch in range(2000):\n",
    "    ### Training\n",
    "    model.train()\n",
    "\n",
    "    # Forward pass (model outputs raw logits)\n",
    "    y_logits = model(X_train_nn).squeeze() \n",
    "    y_pred = torch.round(torch.sigmoid(y_logits)) \n",
    "  \n",
    "    # Calculate loss/accuracy\n",
    "    loss = loss_fn(y_logits, y_train_nn) \n",
    "    acc = binary_accuracy(y_pred, y_train_nn) \n",
    "\n",
    "    # Optimizer zero grad\n",
    "    optimizer.zero_grad()\n",
    "\n",
    "    # Loss backwards\n",
    "    loss.backward()\n",
    "\n",
    "    # Optimizer step\n",
    "    optimizer.step()\n",
    "\n",
    "    ### Testing\n",
    "    model.eval()\n",
    "    with torch.inference_mode():\n",
    "        # Forward pass\n",
    "        test_logits = model(X_test_nn).squeeze() \n",
    "        test_pred = torch.round(torch.sigmoid(test_logits))\n",
    "        # Caculate loss/accuracy\n",
    "        test_loss = loss_fn(test_logits,\n",
    "                            y_test_nn)\n",
    "        test_acc = binary_accuracy(test_pred, y_test_nn)\n",
    "\n",
    "    # Print out what's happening every 100 epochs\n",
    "    if epoch % 100 == 0:\n",
    "        print(f\"Epoch: {epoch} | Loss: {loss:.5f}, Accuracy: {acc:.2f}% | Test loss: {test_loss:.5f}, Test acc: {test_acc:.2f}%\")"
   ]
  },
  {
   "cell_type": "code",
   "execution_count": null,
   "metadata": {},
   "outputs": [],
   "source": []
  }
 ],
 "metadata": {
  "kernelspec": {
   "display_name": "Python 3",
   "language": "python",
   "name": "python3"
  },
  "language_info": {
   "codemirror_mode": {
    "name": "ipython",
    "version": 3
   },
   "file_extension": ".py",
   "mimetype": "text/x-python",
   "name": "python",
   "nbconvert_exporter": "python",
   "pygments_lexer": "ipython3",
   "version": "3.9.0"
  },
  "orig_nbformat": 4
 },
 "nbformat": 4,
 "nbformat_minor": 2
}
